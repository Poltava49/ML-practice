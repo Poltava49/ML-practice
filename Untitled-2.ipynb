{
 "cells": [
  {
   "cell_type": "markdown",
   "id": "f36412e8",
   "metadata": {},
   "source": [
    "#### Создаем  и активируем виртуальное окружение "
   ]
  },
  {
   "cell_type": "code",
   "execution_count": null,
   "id": "971bbf8f",
   "metadata": {},
   "outputs": [],
   "source": [
    "# !python3 -m venv venv\n",
    "# !source venv/bin/activate"
   ]
  },
  {
   "cell_type": "markdown",
   "id": "3540ac84",
   "metadata": {},
   "source": [
    "#### Импортируем бибилотеки"
   ]
  },
  {
   "cell_type": "code",
   "execution_count": 3,
   "id": "36860d74",
   "metadata": {},
   "outputs": [],
   "source": [
    "import mlflow\n",
    "import pandas as pd\n",
    "import matplotlib.pyplot as plt\n",
    "import numpy as np\n",
    "import seaborn as sns"
   ]
  },
  {
   "cell_type": "markdown",
   "id": "0cf810d9",
   "metadata": {},
   "source": [
    "#### Поключаем MLflow для логирования экспов "
   ]
  },
  {
   "cell_type": "code",
   "execution_count": 4,
   "id": "ad22e9e0",
   "metadata": {},
   "outputs": [],
   "source": [
    "mlflow.sklearn.autolog()"
   ]
  },
  {
   "cell_type": "markdown",
   "id": "b06e0e56",
   "metadata": {},
   "source": [
    "#### Функция для вывода MLflow UI в виде страницы браузера"
   ]
  },
  {
   "cell_type": "code",
   "execution_count": null,
   "id": "9aaffb88",
   "metadata": {},
   "outputs": [],
   "source": [
    "import subprocess\n",
    "import webbrowser\n",
    "\n",
    "\n",
    "def start_mlflow_ui(port=5000, backend_store_uri=None):\n",
    "    \"\"\"\n",
    "    Запускает MLflow UI и открывает браузер\n",
    "    \n",
    "    Parameters:\n",
    "    port: порт для запуска UI\n",
    "    backend_store_uri: URI для бэкенда хранения (например, \"file:///./mlruns\")\n",
    "    artifact_root: корневая директория для артефактов\n",
    "    \"\"\"\n",
    "    command = [\"mlflow\", \"ui\", \"--port\", str(port)]\n",
    "    \n",
    "    if backend_store_uri:\n",
    "        command.extend([\"--backend-store-uri\", backend_store_uri])\n",
    "    \n",
    "    \n",
    "    # Запускаем процесс\n",
    "    process = subprocess.Popen(command)\n",
    "\n",
    "    \n",
    "    # Открываем браузер\n",
    "    webbrowser.open(f\"http://localhost:{port}\")\n",
    "    \n",
    "    return process\n",
    "\n",
    "\n",
    "# # Запуск с настройками по умолчанию\n",
    "# ui_process = start_mlflow_ui(backend_store_uri=\"file:///./mlruns\")\n",
    "\n",
    "# try:\n",
    "#     # Держим процесс активным\n",
    "#     ui_process.wait()\n",
    "# except KeyboardInterrupt:\n",
    "#     print(\"Остановка MLflow UI...\")\n",
    "#     ui_process.terminate()"
   ]
  },
  {
   "cell_type": "markdown",
   "id": "9efd5295",
   "metadata": {},
   "source": [
    "#### Загружаем датасет"
   ]
  },
  {
   "cell_type": "code",
   "execution_count": 6,
   "id": "25f9b076",
   "metadata": {},
   "outputs": [],
   "source": [
    "df = pd.read_csv('podcasts.csv')"
   ]
  },
  {
   "cell_type": "code",
   "execution_count": 7,
   "id": "1199a79f",
   "metadata": {},
   "outputs": [
    {
     "data": {
      "text/html": [
       "<div>\n",
       "<style scoped>\n",
       "    .dataframe tbody tr th:only-of-type {\n",
       "        vertical-align: middle;\n",
       "    }\n",
       "\n",
       "    .dataframe tbody tr th {\n",
       "        vertical-align: top;\n",
       "    }\n",
       "\n",
       "    .dataframe thead th {\n",
       "        text-align: right;\n",
       "    }\n",
       "</style>\n",
       "<table border=\"1\" class=\"dataframe\">\n",
       "  <thead>\n",
       "    <tr style=\"text-align: right;\">\n",
       "      <th></th>\n",
       "      <th>Podcast_Name</th>\n",
       "      <th>Episode_Title</th>\n",
       "      <th>Episode_Length_minutes</th>\n",
       "      <th>Genre</th>\n",
       "      <th>Host_Popularity_percentage</th>\n",
       "      <th>Publication_Day</th>\n",
       "      <th>Publication_Time</th>\n",
       "      <th>Guest_Popularity_percentage</th>\n",
       "      <th>Number_of_Ads</th>\n",
       "      <th>Episode_Sentiment</th>\n",
       "      <th>Listening_Time_minutes</th>\n",
       "    </tr>\n",
       "  </thead>\n",
       "  <tbody>\n",
       "    <tr>\n",
       "      <th>0</th>\n",
       "      <td>Healthy Living</td>\n",
       "      <td>Episode 77</td>\n",
       "      <td>99.25</td>\n",
       "      <td>Health</td>\n",
       "      <td>21.37</td>\n",
       "      <td>Thursday</td>\n",
       "      <td>Night</td>\n",
       "      <td>70.22</td>\n",
       "      <td>3</td>\n",
       "      <td>Positive</td>\n",
       "      <td>55.158695</td>\n",
       "    </tr>\n",
       "    <tr>\n",
       "      <th>1</th>\n",
       "      <td>Mystery Matters</td>\n",
       "      <td>Episode 6</td>\n",
       "      <td>19.43</td>\n",
       "      <td>True Crime</td>\n",
       "      <td>47.19</td>\n",
       "      <td>Friday</td>\n",
       "      <td>Evening</td>\n",
       "      <td>75.15</td>\n",
       "      <td>1</td>\n",
       "      <td>Neutral</td>\n",
       "      <td>7.686559</td>\n",
       "    </tr>\n",
       "  </tbody>\n",
       "</table>\n",
       "</div>"
      ],
      "text/plain": [
       "      Podcast_Name Episode_Title  Episode_Length_minutes       Genre  \\\n",
       "0   Healthy Living    Episode 77                   99.25      Health   \n",
       "1  Mystery Matters     Episode 6                   19.43  True Crime   \n",
       "\n",
       "   Host_Popularity_percentage Publication_Day Publication_Time  \\\n",
       "0                       21.37        Thursday            Night   \n",
       "1                       47.19          Friday          Evening   \n",
       "\n",
       "   Guest_Popularity_percentage  Number_of_Ads Episode_Sentiment  \\\n",
       "0                        70.22              3          Positive   \n",
       "1                        75.15              1           Neutral   \n",
       "\n",
       "   Listening_Time_minutes  \n",
       "0               55.158695  \n",
       "1                7.686559  "
      ]
     },
     "execution_count": 7,
     "metadata": {},
     "output_type": "execute_result"
    }
   ],
   "source": [
    "df.head(2)"
   ]
  },
  {
   "cell_type": "code",
   "execution_count": null,
   "id": "c619caec",
   "metadata": {},
   "outputs": [],
   "source": []
  }
 ],
 "metadata": {
  "kernelspec": {
   "display_name": "Python 3",
   "language": "python",
   "name": "python3"
  },
  "language_info": {
   "codemirror_mode": {
    "name": "ipython",
    "version": 3
   },
   "file_extension": ".py",
   "mimetype": "text/x-python",
   "name": "python",
   "nbconvert_exporter": "python",
   "pygments_lexer": "ipython3",
   "version": "3.13.3"
  }
 },
 "nbformat": 4,
 "nbformat_minor": 5
}
